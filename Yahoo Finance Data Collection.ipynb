{
 "cells": [
  {
   "cell_type": "code",
   "execution_count": 1,
   "metadata": {},
   "outputs": [],
   "source": [
    "import yfinance as yf\n",
    "import pandas as pd\n",
    "import requests\n",
    "from bs4 import BeautifulSoup"
   ]
  },
  {
   "cell_type": "code",
   "execution_count": 2,
   "metadata": {},
   "outputs": [],
   "source": [
    "#Function to get the ticker of the Russell 1000 index\n",
    "def get_russell_1000(): \n",
    "    #get ticker from wikepedia page\n",
    "    url = 'https://en.wikipedia.org/wiki/Russell_1000_Index'\n",
    "    response = requests.get(url)\n",
    "    soup = BeautifulSoup(response.text, 'lxml')\n",
    "    #get tables\n",
    "    table = soup.find('table', {'class': 'wikitable sortable'})\n",
    "\n",
    "    #loop over rows and extracts the ticker symbol\n",
    "    tickers = []\n",
    "    for row in table.findAll('tr')[1:]:\n",
    "        ticker = row.findAll('td')[1].text.strip()\n",
    "        tickers.append(ticker)\n",
    "\n",
    "    return tickers\n"
   ]
  },
  {
   "cell_type": "code",
   "execution_count": 5,
   "metadata": {},
   "outputs": [],
   "source": [
    "#Function to get stock price and financial data for a company\n",
    "def get_stock_financial_data(ticker):\n",
    "    #download stock information using yfinance\n",
    "    stock = yf.Ticker(ticker)\n",
    "    \n",
    "    #get current stock price\n",
    "    stock_price = stock.history(period=\"1d\")['Close'].iloc[-1]\n",
    "    \n",
    "    #get financial information\n",
    "    financial_info = stock.info\n",
    "\n",
    "    #get desired metrics\n",
    "    metrics = {\n",
    "        'Ticker': ticker,\n",
    "        'longName' : financial_info.get('longName', 'N/A'),\n",
    "        'Stock Price': stock_price,\n",
    "        'Industry': financial_info.get('industry', 'N/A'),\n",
    "        'Sector': financial_info.get('sector', 'N/A'),\n",
    "        'Full Time Employees': financial_info.get('fullTimeEmployees', 'N/A'),\n",
    "        'Dividend Rate': financial_info.get('dividendRate', 'N/A'),\n",
    "        'Dividend Yield': financial_info.get('dividendYield', 'N/A'),\n",
    "        'Payout Ratio': financial_info.get('payoutRatio', 'N/A'),\n",
    "        '5-Year Avg Dividend Yield': financial_info.get('fiveYearAvgDividendYield', 'N/A'),\n",
    "        'Beta': financial_info.get('beta', 'N/A'),\n",
    "        'Trailing P/E': financial_info.get('trailingPE', 'N/A'),\n",
    "        'Forward P/E': financial_info.get('forwardPE', 'N/A'),\n",
    "        'Volume': financial_info.get('volume', 'N/A'),\n",
    "        'Regular Market Volume': financial_info.get('regularMarketVolume', 'N/A'),\n",
    "        'Average Volume': financial_info.get('averageVolume', 'N/A'),\n",
    "        'Average Volume (10 days)': financial_info.get('averageVolume10days', 'N/A'),\n",
    "        'Market Cap': financial_info.get('marketCap', 'N/A'),\n",
    "        '52 Week Low': financial_info.get('fiftyTwoWeekLow', 'N/A'),\n",
    "        '52 Week High': financial_info.get('fiftyTwoWeekHigh', 'N/A'),\n",
    "        'Price/Sales (TTM)': financial_info.get('priceToSalesTrailing12Months', 'N/A'),\n",
    "        'Trailing Annual Dividend Rate': financial_info.get('trailingAnnualDividendRate', 'N/A'),\n",
    "        'Trailing Annual Dividend Yield': financial_info.get('trailingAnnualDividendYield', 'N/A'),\n",
    "        'Profit Margins': financial_info.get('profitMargins', 'N/A'),\n",
    "        'Enterprise to Revenue': financial_info.get('enterpriseToRevenue', 'N/A'),\n",
    "        'Enterprise to EBITDA': financial_info.get('enterpriseToEbitda', 'N/A'),\n",
    "        'Recommendation Mean': financial_info.get('recommendationMean', 'N/A'),\n",
    "        'Recommendation Key': financial_info.get('recommendationKey', 'N/A'),\n",
    "        'Total Cash Per Share': financial_info.get('totalCashPerShare', 'N/A'),\n",
    "        'EBITDA': financial_info.get('ebitda', 'N/A'),\n",
    "        'Total Debt': financial_info.get('totalDebt', 'N/A'),\n",
    "        'Quick Ratio': financial_info.get('quickRatio', 'N/A'),\n",
    "        'Current Ratio': financial_info.get('currentRatio', 'N/A'),\n",
    "        'Total Revenue': financial_info.get('totalRevenue', 'N/A'),\n",
    "        'Debt to Equity': financial_info.get('debtToEquity', 'N/A'),\n",
    "        'Revenue Per Share': financial_info.get('revenuePerShare', 'N/A'),\n",
    "        'Return on Assets': financial_info.get('returnOnAssets', 'N/A'),\n",
    "        'Return on Equity': financial_info.get('returnOnEquity', 'N/A'),\n",
    "        'Revenue Growth': financial_info.get('revenueGrowth', 'N/A'),\n",
    "        'Gross Margins': financial_info.get('grossMargins', 'N/A'),\n",
    "        'EBITDA Margins': financial_info.get('ebitdaMargins', 'N/A'),\n",
    "        'Earnings Per Share': financial_info.get('trailingEps', 'N/A'),\n",
    "    }\n",
    "    \n",
    "    #return the collected data as a dictionary\n",
    "    return metrics\n"
   ]
  },
  {
   "cell_type": "code",
   "execution_count": 6,
   "metadata": {},
   "outputs": [],
   "source": [
    "#function to get historical stock price\n",
    "def get_historical_prices(tickers):\n",
    "\n",
    "    all_data = {}\n",
    "    \n",
    "    #loop over ticker and get table with historical data from past 2 years\n",
    "    for ticker in tickers:\n",
    "        stock = yf.Ticker(ticker)\n",
    "        #only get closing price\n",
    "        historical_data = stock.history(period=\"2y\")['Close']\n",
    "        all_data[ticker] = historical_data\n",
    "    \n",
    "    #return dictionary where key=ticker and value=df\n",
    "    return all_data"
   ]
  },
  {
   "cell_type": "code",
   "execution_count": 3,
   "metadata": {},
   "outputs": [],
   "source": [
    "#Create ticker list \n",
    "russell1000_tickers = get_russell_1000()\n",
    "#remove ticker with . as that does not work in yfinance\n",
    "russell1000_tickers = [ticker for ticker in russell1000_tickers if '.' not in ticker]\n",
    "#remove other tickers\n",
    "russell1000_tickers.remove('LSXMA') #no price historical data\n",
    "russell1000_tickers.remove('LSXMK') #no price historical data"
   ]
  },
  {
   "cell_type": "code",
   "execution_count": 103,
   "metadata": {},
   "outputs": [],
   "source": [
    "#Create financial info df\n",
    "financial_data_list = []\n",
    "\n",
    "#loop over ticker, get data\n",
    "for ticker in russell1000_tickers:\n",
    "    data = get_stock_financial_data(ticker)\n",
    "    financial_data_list.append(data)\n",
    "\n",
    "russell1000_financial_data = pd.DataFrame(financial_data_list)"
   ]
  },
  {
   "cell_type": "code",
   "execution_count": 7,
   "metadata": {},
   "outputs": [],
   "source": [
    "#Create stock price info df\n",
    "historical_prices = get_historical_prices(russell1000_tickers)\n"
   ]
  },
  {
   "cell_type": "code",
   "execution_count": 13,
   "metadata": {},
   "outputs": [],
   "source": [
    "#Combine all historical prices into df\n",
    "all_historical_prices = pd.DataFrame()\n",
    "\n",
    "#loop over dictionray \n",
    "for ticker, series in historical_prices.items():\n",
    "        #convert each series to a DataFrame\n",
    "        stock_df = pd.DataFrame(series)\n",
    "        stock_df.columns = [ticker]  # Rename the column to the ticker symbol\n",
    "\n",
    "        #merge this DataFrame with the existing merged DataFrame on the index (date)\n",
    "        if all_historical_prices.empty:\n",
    "            all_historical_prices = stock_df  # First DataFrame, just set it as merged_df\n",
    "        else:\n",
    "            all_historical_prices = all_historical_prices.merge(stock_df, how='outer', left_index=True, right_index=True)\n",
    "\n",
    "#create column for date\n",
    "all_historical_prices= all_historical_prices.reset_index()"
   ]
  },
  {
   "cell_type": "code",
   "execution_count": 122,
   "metadata": {},
   "outputs": [],
   "source": [
    "#save the data into a csv file\n",
    "csv_filename_1 = 'russell_1000_financial_information'\n",
    "russell1000_financial_data.to_csv(csv_filename_1, index=False)\n",
    "\n",
    "csv_filename_2 = 'russell_1000_historical_price'\n",
    "all_historical_prices.to_csv(csv_filename_2, index=False)"
   ]
  }
 ],
 "metadata": {
  "kernelspec": {
   "display_name": "base",
   "language": "python",
   "name": "python3"
  },
  "language_info": {
   "codemirror_mode": {
    "name": "ipython",
    "version": 3
   },
   "file_extension": ".py",
   "mimetype": "text/x-python",
   "name": "python",
   "nbconvert_exporter": "python",
   "pygments_lexer": "ipython3",
   "version": "3.8.8"
  }
 },
 "nbformat": 4,
 "nbformat_minor": 2
}
